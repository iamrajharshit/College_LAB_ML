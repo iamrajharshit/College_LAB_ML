{
 "cells": [
  {
   "cell_type": "code",
   "execution_count": 1,
   "id": "a396dd96",
   "metadata": {
    "scrolled": true
   },
   "outputs": [
    {
     "name": "stdout",
     "output_type": "stream",
     "text": [
      "hello\n"
     ]
    }
   ],
   "source": [
    "print(\"hello\")"
   ]
  },
  {
   "cell_type": "markdown",
   "id": "45eb8b94",
   "metadata": {},
   "source": [
    "#Heading1"
   ]
  },
  {
   "cell_type": "markdown",
   "id": "36379c81",
   "metadata": {},
   "source": [
    "##trying"
   ]
  },
  {
   "cell_type": "markdown",
   "id": "9095d135",
   "metadata": {},
   "source": [
    "##HH"
   ]
  },
  {
   "cell_type": "markdown",
   "id": "3ea05c2a",
   "metadata": {},
   "source": [
    "##Hello"
   ]
  },
  {
   "cell_type": "markdown",
   "id": "c66636f5",
   "metadata": {},
   "source": [
    "# PANDAS"
   ]
  },
  {
   "cell_type": "code",
   "execution_count": 4,
   "id": "c4a70990",
   "metadata": {
    "scrolled": true
   },
   "outputs": [
    {
     "name": "stdout",
     "output_type": "stream",
     "text": [
      "Enter a number45\n",
      "Enter another number78\n",
      "123\n"
     ]
    }
   ],
   "source": [
    "a=int(input(\"Enter a number\"))\n",
    "b=int(input(\"Enter another number\"))\n",
    "a=a+b\n",
    "print(a)"
   ]
  },
  {
   "cell_type": "code",
   "execution_count": 5,
   "id": "1e8cf94c",
   "metadata": {},
   "outputs": [
    {
     "name": "stdout",
     "output_type": "stream",
     "text": [
      "\n",
      "*\n",
      "**\n",
      "***\n",
      "****\n"
     ]
    }
   ],
   "source": [
    "for i in range (0,5):\n",
    "    print(\"*\"*i)"
   ]
  },
  {
   "cell_type": "markdown",
   "id": "ce1dd625",
   "metadata": {},
   "source": [
    "#Area of Shapes"
   ]
  },
  {
   "cell_type": "code",
   "execution_count": 6,
   "id": "169373bb",
   "metadata": {
    "scrolled": true
   },
   "outputs": [
    {
     "name": "stdout",
     "output_type": "stream",
     "text": [
      "Enter value for x:34\n",
      "Enter value for y:67\n",
      "y is greater than x\n"
     ]
    }
   ],
   "source": [
    "x=int(input(\"Enter value for x:\"))\n",
    "y=int(input(\"Enter value for y:\"))\n",
    "if x>y:\n",
    "    print(\"x is greater than y\")\n",
    "elif x<y:\n",
    "    print(\"y is greater than x\")\n",
    "else:\n",
    "    print(\"Both are same in value\")"
   ]
  },
  {
   "cell_type": "markdown",
   "id": "eaf3c513",
   "metadata": {},
   "source": [
    "#area of shapes"
   ]
  },
  {
   "cell_type": "code",
   "execution_count": 8,
   "id": "750ee845",
   "metadata": {
    "scrolled": true
   },
   "outputs": [
    {
     "name": "stdout",
     "output_type": "stream",
     "text": [
      "Enter the height of a the triangle34\n",
      "Enter the base of a triangle56\n",
      "Enter the radius of a circle34\n",
      "Enter the side of a square67\n",
      "Enter the length of a rectangle89\n",
      "Enter the breath of a rectangle6534\n",
      "area of triangle= 952.0\n",
      "area of circle= 3633.142857142857\n",
      "area of squrare= 4489\n",
      "area of rectangle= 581526\n"
     ]
    }
   ],
   "source": [
    "t=int(input(\"Enter the height of a the triangle\"))\n",
    "b1=int(input(\"Enter the base of a triangle\"))\n",
    "c=int(input(\"Enter the radius of a circle\"))\n",
    "s=int(input(\"Enter the side of a square\"))\n",
    "l=int(input(\"Enter the length of a rectangle\"))\n",
    "b=int(input(\"Enter the breath of a rectangle\"))\n",
    "\n",
    "print(\"area of triangle=\",.5*b1*t)\n",
    "print(\"area of circle=\",(22/7)*c**2)\n",
    "print(\"area of squrare=\",s**2)\n",
    "print(\"area of rectangle=\",l*b)\n"
   ]
  },
  {
   "cell_type": "markdown",
   "id": "67579274",
   "metadata": {},
   "source": [
    "#simple interest"
   ]
  },
  {
   "cell_type": "markdown",
   "id": "3a17a376",
   "metadata": {},
   "source": [
    "# Simple Interest"
   ]
  },
  {
   "cell_type": "code",
   "execution_count": 9,
   "id": "18fa6c4e",
   "metadata": {
    "scrolled": true
   },
   "outputs": [
    {
     "name": "stdout",
     "output_type": "stream",
     "text": [
      "Enter the int principle balance1000\n",
      "Enter the time in years5\n",
      "Enter the rate of interest12\n",
      "The amount in comping years= 61000\n"
     ]
    }
   ],
   "source": [
    "p=int(input(\"Enter the int principle balance\"))\n",
    "t=int(input(\"Enter the time in years\"))\n",
    "r=int(input(\"Enter the rate of interest\"))\n",
    "a=p*(1+(r*t))\n",
    "\n",
    "print(\"The amount in comping years=\",a)"
   ]
  },
  {
   "cell_type": "markdown",
   "id": "838d8882",
   "metadata": {},
   "source": [
    "## HEAD"
   ]
  },
  {
   "cell_type": "markdown",
   "id": "29bc053d",
   "metadata": {},
   "source": [
    "#now"
   ]
  },
  {
   "cell_type": "markdown",
   "id": "fc09cd9f",
   "metadata": {},
   "source": [
    "now"
   ]
  },
  {
   "cell_type": "code",
   "execution_count": 10,
   "id": "879530e1",
   "metadata": {},
   "outputs": [
    {
     "name": "stdout",
     "output_type": "stream",
     "text": [
      "3\n"
     ]
    }
   ],
   "source": [
    "import random\n",
    "r1=random.randint(0,6)\n",
    "print(r1)"
   ]
  },
  {
   "cell_type": "code",
   "execution_count": 11,
   "id": "2396b73d",
   "metadata": {},
   "outputs": [
    {
     "name": "stdout",
     "output_type": "stream",
     "text": [
      "Defaulting to user installation because normal site-packages is not writeable\n",
      "Requirement already satisfied: pandas in /opt/anaconda3/lib/python3.9/site-packages (1.4.2)\n",
      "Requirement already satisfied: python-dateutil>=2.8.1 in /opt/anaconda3/lib/python3.9/site-packages (from pandas) (2.8.2)\n",
      "Requirement already satisfied: pytz>=2020.1 in /opt/anaconda3/lib/python3.9/site-packages (from pandas) (2021.3)\n",
      "Requirement already satisfied: numpy>=1.18.5 in /opt/anaconda3/lib/python3.9/site-packages (from pandas) (1.21.5)\n",
      "Requirement already satisfied: six>=1.5 in /opt/anaconda3/lib/python3.9/site-packages (from python-dateutil>=2.8.1->pandas) (1.16.0)\n"
     ]
    }
   ],
   "source": [
    "! pip install pandas"
   ]
  },
  {
   "cell_type": "code",
   "execution_count": 13,
   "id": "4dd765cc",
   "metadata": {},
   "outputs": [
    {
     "data": {
      "text/plain": [
       "0     Blue\n",
       "1     Pink\n",
       "2    Black\n",
       "dtype: object"
      ]
     },
     "execution_count": 13,
     "metadata": {},
     "output_type": "execute_result"
    }
   ],
   "source": [
    "import pandas as pd\n",
    "color=pd.Series([\"Blue\",\"Pink\",\"Black\"])\n",
    "color"
   ]
  },
  {
   "cell_type": "code",
   "execution_count": 14,
   "id": "8660c667",
   "metadata": {},
   "outputs": [],
   "source": [
    "import pandas as pd\n",
    "color=pd.Series([\"Blue\",\"Yellow\",\"Orange\",\"Purple\"])"
   ]
  },
  {
   "cell_type": "code",
   "execution_count": 15,
   "id": "c8275419",
   "metadata": {},
   "outputs": [
    {
     "data": {
      "text/plain": [
       "0      Blue\n",
       "1    Yellow\n",
       "2    Orange\n",
       "3    Purple\n",
       "dtype: object"
      ]
     },
     "execution_count": 15,
     "metadata": {},
     "output_type": "execute_result"
    }
   ],
   "source": [
    "color"
   ]
  },
  {
   "cell_type": "markdown",
   "id": "d43ae382",
   "metadata": {},
   "source": [
    "# to change index"
   ]
  },
  {
   "cell_type": "code",
   "execution_count": 18,
   "id": "f055a99e",
   "metadata": {},
   "outputs": [
    {
     "data": {
      "text/plain": [
       "1       Red\n",
       "2    Yellow\n",
       "3    Purple\n",
       "4     Green\n",
       "dtype: object"
      ]
     },
     "execution_count": 18,
     "metadata": {},
     "output_type": "execute_result"
    }
   ],
   "source": [
    "import pandas as pd\n",
    "a=[\"1\",\"2\",\"3\",\"4\"]\n",
    "color=pd.Series([\"Red\",\"Yellow\",\"Purple\",\"Green\"],index=a)\n",
    "color"
   ]
  },
  {
   "cell_type": "code",
   "execution_count": 19,
   "id": "15cad6c0",
   "metadata": {},
   "outputs": [
    {
     "data": {
      "text/plain": [
       "'Red'"
      ]
     },
     "execution_count": 19,
     "metadata": {},
     "output_type": "execute_result"
    }
   ],
   "source": [
    "color[0]"
   ]
  },
  {
   "cell_type": "code",
   "execution_count": 24,
   "id": "770c3abf",
   "metadata": {},
   "outputs": [
    {
     "data": {
      "text/plain": [
       "1       Red\n",
       "2    Yellow\n",
       "dtype: object"
      ]
     },
     "execution_count": 24,
     "metadata": {},
     "output_type": "execute_result"
    }
   ],
   "source": [
    "color[0:2]"
   ]
  },
  {
   "cell_type": "code",
   "execution_count": 29,
   "id": "724fd4d6",
   "metadata": {},
   "outputs": [
    {
     "data": {
      "text/html": [
       "<div>\n",
       "<style scoped>\n",
       "    .dataframe tbody tr th:only-of-type {\n",
       "        vertical-align: middle;\n",
       "    }\n",
       "\n",
       "    .dataframe tbody tr th {\n",
       "        vertical-align: top;\n",
       "    }\n",
       "\n",
       "    .dataframe thead th {\n",
       "        text-align: right;\n",
       "    }\n",
       "</style>\n",
       "<table border=\"1\" class=\"dataframe\">\n",
       "  <thead>\n",
       "    <tr style=\"text-align: right;\">\n",
       "      <th></th>\n",
       "      <th>Vehicles</th>\n",
       "      <th>colors</th>\n",
       "    </tr>\n",
       "  </thead>\n",
       "  <tbody>\n",
       "    <tr>\n",
       "      <th>0</th>\n",
       "      <td>Car</td>\n",
       "      <td>black</td>\n",
       "    </tr>\n",
       "    <tr>\n",
       "      <th>1</th>\n",
       "      <td>Bus</td>\n",
       "      <td>blue</td>\n",
       "    </tr>\n",
       "    <tr>\n",
       "      <th>2</th>\n",
       "      <td>Truck</td>\n",
       "      <td>brown</td>\n",
       "    </tr>\n",
       "    <tr>\n",
       "      <th>3</th>\n",
       "      <td>Hatchbag</td>\n",
       "      <td>green</td>\n",
       "    </tr>\n",
       "    <tr>\n",
       "      <th>4</th>\n",
       "      <td>Sedan</td>\n",
       "      <td>yellow</td>\n",
       "    </tr>\n",
       "  </tbody>\n",
       "</table>\n",
       "</div>"
      ],
      "text/plain": [
       "   Vehicles  colors\n",
       "0       Car   black\n",
       "1       Bus    blue\n",
       "2     Truck   brown\n",
       "3  Hatchbag   green\n",
       "4     Sedan  yellow"
      ]
     },
     "execution_count": 29,
     "metadata": {},
     "output_type": "execute_result"
    }
   ],
   "source": [
    "import pandas as pd\n",
    "v={\"Vehicles\":[\"Car\",\"Bus\",\"Truck\",\"Hatchbag\",\"Sedan\"],\"colors\":[\"black\",\"blue\",\"brown\",\"green\",\"yellow\"]}\n",
    "dff=pd.DataFrame(v)\n",
    "dff\n"
   ]
  },
  {
   "cell_type": "markdown",
   "id": "5d315906",
   "metadata": {},
   "source": [
    "# Data frames"
   ]
  },
  {
   "cell_type": "markdown",
   "id": "fe5a8915",
   "metadata": {},
   "source": [
    "2d data"
   ]
  },
  {
   "cell_type": "code",
   "execution_count": 27,
   "id": "0a4b81c0",
   "metadata": {},
   "outputs": [
    {
     "data": {
      "text/html": [
       "<div>\n",
       "<style scoped>\n",
       "    .dataframe tbody tr th:only-of-type {\n",
       "        vertical-align: middle;\n",
       "    }\n",
       "\n",
       "    .dataframe tbody tr th {\n",
       "        vertical-align: top;\n",
       "    }\n",
       "\n",
       "    .dataframe thead th {\n",
       "        text-align: right;\n",
       "    }\n",
       "</style>\n",
       "<table border=\"1\" class=\"dataframe\">\n",
       "  <thead>\n",
       "    <tr style=\"text-align: right;\">\n",
       "      <th></th>\n",
       "      <th>color</th>\n",
       "      <th>transprt</th>\n",
       "    </tr>\n",
       "  </thead>\n",
       "  <tbody>\n",
       "    <tr>\n",
       "      <th>0</th>\n",
       "      <td>blue</td>\n",
       "      <td>Car</td>\n",
       "    </tr>\n",
       "    <tr>\n",
       "      <th>1</th>\n",
       "      <td>red</td>\n",
       "      <td>Bike</td>\n",
       "    </tr>\n",
       "    <tr>\n",
       "      <th>2</th>\n",
       "      <td>pink</td>\n",
       "      <td>Bus</td>\n",
       "    </tr>\n",
       "  </tbody>\n",
       "</table>\n",
       "</div>"
      ],
      "text/plain": [
       "  color transprt\n",
       "0  blue      Car\n",
       "1   red     Bike\n",
       "2  pink      Bus"
      ]
     },
     "execution_count": 27,
     "metadata": {},
     "output_type": "execute_result"
    }
   ],
   "source": [
    "data={\"color\":[\"blue\",\"red\",\"pink\"],\"transprt\":[\"Car\",\"Bike\",\"Bus\"]}\n",
    "df=pd.DataFrame(data)\n",
    "df"
   ]
  },
  {
   "cell_type": "code",
   "execution_count": null,
   "id": "f5780656",
   "metadata": {},
   "outputs": [],
   "source": []
  }
 ],
 "metadata": {
  "kernelspec": {
   "display_name": "Python 3 (ipykernel)",
   "language": "python",
   "name": "python3"
  },
  "language_info": {
   "codemirror_mode": {
    "name": "ipython",
    "version": 3
   },
   "file_extension": ".py",
   "mimetype": "text/x-python",
   "name": "python",
   "nbconvert_exporter": "python",
   "pygments_lexer": "ipython3",
   "version": "3.9.12"
  }
 },
 "nbformat": 4,
 "nbformat_minor": 5
}
